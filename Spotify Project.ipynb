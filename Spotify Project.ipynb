{
 "cells": [
  {
   "cell_type": "code",
   "execution_count": 1,
   "metadata": {},
   "outputs": [],
   "source": [
    "import numpy as np\n",
    "import pandas as pd\n",
    "import matplotlib.pyplot as plt\n",
    "import seaborn as sns\n",
    "%matplotlib inline"
   ]
  },
  {
   "cell_type": "code",
   "execution_count": 2,
   "metadata": {},
   "outputs": [
    {
     "name": "stderr",
     "output_type": "stream",
     "text": [
      "C:\\Users\\Admin\\anaconda3\\lib\\site-packages\\IPython\\core\\interactiveshell.py:3146: DtypeWarning: Columns (19) have mixed types.Specify dtype option on import or set low_memory=False.\n",
      "  has_raised = await self.run_ast_nodes(code_ast.body, cell_name,\n"
     ]
    }
   ],
   "source": [
    "songs_df=pd.read_csv('genres_v2.csv')"
   ]
  },
  {
   "cell_type": "code",
   "execution_count": 3,
   "metadata": {
    "scrolled": true
   },
   "outputs": [
    {
     "data": {
      "text/html": [
       "<div>\n",
       "<style scoped>\n",
       "    .dataframe tbody tr th:only-of-type {\n",
       "        vertical-align: middle;\n",
       "    }\n",
       "\n",
       "    .dataframe tbody tr th {\n",
       "        vertical-align: top;\n",
       "    }\n",
       "\n",
       "    .dataframe thead th {\n",
       "        text-align: right;\n",
       "    }\n",
       "</style>\n",
       "<table border=\"1\" class=\"dataframe\">\n",
       "  <thead>\n",
       "    <tr style=\"text-align: right;\">\n",
       "      <th></th>\n",
       "      <th>danceability</th>\n",
       "      <th>energy</th>\n",
       "      <th>key</th>\n",
       "      <th>loudness</th>\n",
       "      <th>mode</th>\n",
       "      <th>speechiness</th>\n",
       "      <th>acousticness</th>\n",
       "      <th>instrumentalness</th>\n",
       "      <th>liveness</th>\n",
       "      <th>valence</th>\n",
       "      <th>...</th>\n",
       "      <th>id</th>\n",
       "      <th>uri</th>\n",
       "      <th>track_href</th>\n",
       "      <th>analysis_url</th>\n",
       "      <th>duration_ms</th>\n",
       "      <th>time_signature</th>\n",
       "      <th>genre</th>\n",
       "      <th>song_name</th>\n",
       "      <th>Unnamed: 0</th>\n",
       "      <th>title</th>\n",
       "    </tr>\n",
       "  </thead>\n",
       "  <tbody>\n",
       "    <tr>\n",
       "      <th>0</th>\n",
       "      <td>0.831</td>\n",
       "      <td>0.814</td>\n",
       "      <td>2</td>\n",
       "      <td>-7.364</td>\n",
       "      <td>1</td>\n",
       "      <td>0.4200</td>\n",
       "      <td>0.0598</td>\n",
       "      <td>0.013400</td>\n",
       "      <td>0.0556</td>\n",
       "      <td>0.3890</td>\n",
       "      <td>...</td>\n",
       "      <td>2Vc6NJ9PW9gD9q343XFRKx</td>\n",
       "      <td>spotify:track:2Vc6NJ9PW9gD9q343XFRKx</td>\n",
       "      <td>https://api.spotify.com/v1/tracks/2Vc6NJ9PW9gD...</td>\n",
       "      <td>https://api.spotify.com/v1/audio-analysis/2Vc6...</td>\n",
       "      <td>124539</td>\n",
       "      <td>4</td>\n",
       "      <td>Dark Trap</td>\n",
       "      <td>Mercury: Retrograde</td>\n",
       "      <td>NaN</td>\n",
       "      <td>NaN</td>\n",
       "    </tr>\n",
       "    <tr>\n",
       "      <th>1</th>\n",
       "      <td>0.719</td>\n",
       "      <td>0.493</td>\n",
       "      <td>8</td>\n",
       "      <td>-7.230</td>\n",
       "      <td>1</td>\n",
       "      <td>0.0794</td>\n",
       "      <td>0.4010</td>\n",
       "      <td>0.000000</td>\n",
       "      <td>0.1180</td>\n",
       "      <td>0.1240</td>\n",
       "      <td>...</td>\n",
       "      <td>7pgJBLVz5VmnL7uGHmRj6p</td>\n",
       "      <td>spotify:track:7pgJBLVz5VmnL7uGHmRj6p</td>\n",
       "      <td>https://api.spotify.com/v1/tracks/7pgJBLVz5Vmn...</td>\n",
       "      <td>https://api.spotify.com/v1/audio-analysis/7pgJ...</td>\n",
       "      <td>224427</td>\n",
       "      <td>4</td>\n",
       "      <td>Dark Trap</td>\n",
       "      <td>Pathology</td>\n",
       "      <td>NaN</td>\n",
       "      <td>NaN</td>\n",
       "    </tr>\n",
       "    <tr>\n",
       "      <th>2</th>\n",
       "      <td>0.850</td>\n",
       "      <td>0.893</td>\n",
       "      <td>5</td>\n",
       "      <td>-4.783</td>\n",
       "      <td>1</td>\n",
       "      <td>0.0623</td>\n",
       "      <td>0.0138</td>\n",
       "      <td>0.000004</td>\n",
       "      <td>0.3720</td>\n",
       "      <td>0.0391</td>\n",
       "      <td>...</td>\n",
       "      <td>0vSWgAlfpye0WCGeNmuNhy</td>\n",
       "      <td>spotify:track:0vSWgAlfpye0WCGeNmuNhy</td>\n",
       "      <td>https://api.spotify.com/v1/tracks/0vSWgAlfpye0...</td>\n",
       "      <td>https://api.spotify.com/v1/audio-analysis/0vSW...</td>\n",
       "      <td>98821</td>\n",
       "      <td>4</td>\n",
       "      <td>Dark Trap</td>\n",
       "      <td>Symbiote</td>\n",
       "      <td>NaN</td>\n",
       "      <td>NaN</td>\n",
       "    </tr>\n",
       "    <tr>\n",
       "      <th>3</th>\n",
       "      <td>0.476</td>\n",
       "      <td>0.781</td>\n",
       "      <td>0</td>\n",
       "      <td>-4.710</td>\n",
       "      <td>1</td>\n",
       "      <td>0.1030</td>\n",
       "      <td>0.0237</td>\n",
       "      <td>0.000000</td>\n",
       "      <td>0.1140</td>\n",
       "      <td>0.1750</td>\n",
       "      <td>...</td>\n",
       "      <td>0VSXnJqQkwuH2ei1nOQ1nu</td>\n",
       "      <td>spotify:track:0VSXnJqQkwuH2ei1nOQ1nu</td>\n",
       "      <td>https://api.spotify.com/v1/tracks/0VSXnJqQkwuH...</td>\n",
       "      <td>https://api.spotify.com/v1/audio-analysis/0VSX...</td>\n",
       "      <td>123661</td>\n",
       "      <td>3</td>\n",
       "      <td>Dark Trap</td>\n",
       "      <td>ProductOfDrugs (Prod. The Virus and Antidote)</td>\n",
       "      <td>NaN</td>\n",
       "      <td>NaN</td>\n",
       "    </tr>\n",
       "    <tr>\n",
       "      <th>4</th>\n",
       "      <td>0.798</td>\n",
       "      <td>0.624</td>\n",
       "      <td>2</td>\n",
       "      <td>-7.668</td>\n",
       "      <td>1</td>\n",
       "      <td>0.2930</td>\n",
       "      <td>0.2170</td>\n",
       "      <td>0.000000</td>\n",
       "      <td>0.1660</td>\n",
       "      <td>0.5910</td>\n",
       "      <td>...</td>\n",
       "      <td>4jCeguq9rMTlbMmPHuO7S3</td>\n",
       "      <td>spotify:track:4jCeguq9rMTlbMmPHuO7S3</td>\n",
       "      <td>https://api.spotify.com/v1/tracks/4jCeguq9rMTl...</td>\n",
       "      <td>https://api.spotify.com/v1/audio-analysis/4jCe...</td>\n",
       "      <td>123298</td>\n",
       "      <td>4</td>\n",
       "      <td>Dark Trap</td>\n",
       "      <td>Venom</td>\n",
       "      <td>NaN</td>\n",
       "      <td>NaN</td>\n",
       "    </tr>\n",
       "  </tbody>\n",
       "</table>\n",
       "<p>5 rows × 22 columns</p>\n",
       "</div>"
      ],
      "text/plain": [
       "   danceability  energy  key  loudness  mode  speechiness  acousticness  \\\n",
       "0         0.831   0.814    2    -7.364     1       0.4200        0.0598   \n",
       "1         0.719   0.493    8    -7.230     1       0.0794        0.4010   \n",
       "2         0.850   0.893    5    -4.783     1       0.0623        0.0138   \n",
       "3         0.476   0.781    0    -4.710     1       0.1030        0.0237   \n",
       "4         0.798   0.624    2    -7.668     1       0.2930        0.2170   \n",
       "\n",
       "   instrumentalness  liveness  valence  ...                      id  \\\n",
       "0          0.013400    0.0556   0.3890  ...  2Vc6NJ9PW9gD9q343XFRKx   \n",
       "1          0.000000    0.1180   0.1240  ...  7pgJBLVz5VmnL7uGHmRj6p   \n",
       "2          0.000004    0.3720   0.0391  ...  0vSWgAlfpye0WCGeNmuNhy   \n",
       "3          0.000000    0.1140   0.1750  ...  0VSXnJqQkwuH2ei1nOQ1nu   \n",
       "4          0.000000    0.1660   0.5910  ...  4jCeguq9rMTlbMmPHuO7S3   \n",
       "\n",
       "                                    uri  \\\n",
       "0  spotify:track:2Vc6NJ9PW9gD9q343XFRKx   \n",
       "1  spotify:track:7pgJBLVz5VmnL7uGHmRj6p   \n",
       "2  spotify:track:0vSWgAlfpye0WCGeNmuNhy   \n",
       "3  spotify:track:0VSXnJqQkwuH2ei1nOQ1nu   \n",
       "4  spotify:track:4jCeguq9rMTlbMmPHuO7S3   \n",
       "\n",
       "                                          track_href  \\\n",
       "0  https://api.spotify.com/v1/tracks/2Vc6NJ9PW9gD...   \n",
       "1  https://api.spotify.com/v1/tracks/7pgJBLVz5Vmn...   \n",
       "2  https://api.spotify.com/v1/tracks/0vSWgAlfpye0...   \n",
       "3  https://api.spotify.com/v1/tracks/0VSXnJqQkwuH...   \n",
       "4  https://api.spotify.com/v1/tracks/4jCeguq9rMTl...   \n",
       "\n",
       "                                        analysis_url duration_ms  \\\n",
       "0  https://api.spotify.com/v1/audio-analysis/2Vc6...      124539   \n",
       "1  https://api.spotify.com/v1/audio-analysis/7pgJ...      224427   \n",
       "2  https://api.spotify.com/v1/audio-analysis/0vSW...       98821   \n",
       "3  https://api.spotify.com/v1/audio-analysis/0VSX...      123661   \n",
       "4  https://api.spotify.com/v1/audio-analysis/4jCe...      123298   \n",
       "\n",
       "  time_signature      genre                                      song_name  \\\n",
       "0              4  Dark Trap                            Mercury: Retrograde   \n",
       "1              4  Dark Trap                                      Pathology   \n",
       "2              4  Dark Trap                                       Symbiote   \n",
       "3              3  Dark Trap  ProductOfDrugs (Prod. The Virus and Antidote)   \n",
       "4              4  Dark Trap                                          Venom   \n",
       "\n",
       "  Unnamed: 0 title  \n",
       "0        NaN   NaN  \n",
       "1        NaN   NaN  \n",
       "2        NaN   NaN  \n",
       "3        NaN   NaN  \n",
       "4        NaN   NaN  \n",
       "\n",
       "[5 rows x 22 columns]"
      ]
     },
     "execution_count": 3,
     "metadata": {},
     "output_type": "execute_result"
    }
   ],
   "source": [
    "songs_df.head()"
   ]
  },
  {
   "cell_type": "code",
   "execution_count": 4,
   "metadata": {},
   "outputs": [
    {
     "data": {
      "text/plain": [
       "(42305, 22)"
      ]
     },
     "execution_count": 4,
     "metadata": {},
     "output_type": "execute_result"
    }
   ],
   "source": [
    "songs_df.shape"
   ]
  },
  {
   "cell_type": "code",
   "execution_count": 5,
   "metadata": {},
   "outputs": [
    {
     "data": {
      "text/html": [
       "<div>\n",
       "<style scoped>\n",
       "    .dataframe tbody tr th:only-of-type {\n",
       "        vertical-align: middle;\n",
       "    }\n",
       "\n",
       "    .dataframe tbody tr th {\n",
       "        vertical-align: top;\n",
       "    }\n",
       "\n",
       "    .dataframe thead th {\n",
       "        text-align: right;\n",
       "    }\n",
       "</style>\n",
       "<table border=\"1\" class=\"dataframe\">\n",
       "  <thead>\n",
       "    <tr style=\"text-align: right;\">\n",
       "      <th></th>\n",
       "      <th>0</th>\n",
       "      <th>1</th>\n",
       "      <th>2</th>\n",
       "      <th>3</th>\n",
       "      <th>4</th>\n",
       "    </tr>\n",
       "  </thead>\n",
       "  <tbody>\n",
       "    <tr>\n",
       "      <th>danceability</th>\n",
       "      <td>0.831</td>\n",
       "      <td>0.719</td>\n",
       "      <td>0.85</td>\n",
       "      <td>0.476</td>\n",
       "      <td>0.798</td>\n",
       "    </tr>\n",
       "    <tr>\n",
       "      <th>energy</th>\n",
       "      <td>0.814</td>\n",
       "      <td>0.493</td>\n",
       "      <td>0.893</td>\n",
       "      <td>0.781</td>\n",
       "      <td>0.624</td>\n",
       "    </tr>\n",
       "    <tr>\n",
       "      <th>key</th>\n",
       "      <td>2</td>\n",
       "      <td>8</td>\n",
       "      <td>5</td>\n",
       "      <td>0</td>\n",
       "      <td>2</td>\n",
       "    </tr>\n",
       "    <tr>\n",
       "      <th>loudness</th>\n",
       "      <td>-7.364</td>\n",
       "      <td>-7.23</td>\n",
       "      <td>-4.783</td>\n",
       "      <td>-4.71</td>\n",
       "      <td>-7.668</td>\n",
       "    </tr>\n",
       "    <tr>\n",
       "      <th>mode</th>\n",
       "      <td>1</td>\n",
       "      <td>1</td>\n",
       "      <td>1</td>\n",
       "      <td>1</td>\n",
       "      <td>1</td>\n",
       "    </tr>\n",
       "    <tr>\n",
       "      <th>speechiness</th>\n",
       "      <td>0.42</td>\n",
       "      <td>0.0794</td>\n",
       "      <td>0.0623</td>\n",
       "      <td>0.103</td>\n",
       "      <td>0.293</td>\n",
       "    </tr>\n",
       "    <tr>\n",
       "      <th>acousticness</th>\n",
       "      <td>0.0598</td>\n",
       "      <td>0.401</td>\n",
       "      <td>0.0138</td>\n",
       "      <td>0.0237</td>\n",
       "      <td>0.217</td>\n",
       "    </tr>\n",
       "    <tr>\n",
       "      <th>instrumentalness</th>\n",
       "      <td>0.0134</td>\n",
       "      <td>0</td>\n",
       "      <td>4.14e-06</td>\n",
       "      <td>0</td>\n",
       "      <td>0</td>\n",
       "    </tr>\n",
       "    <tr>\n",
       "      <th>liveness</th>\n",
       "      <td>0.0556</td>\n",
       "      <td>0.118</td>\n",
       "      <td>0.372</td>\n",
       "      <td>0.114</td>\n",
       "      <td>0.166</td>\n",
       "    </tr>\n",
       "    <tr>\n",
       "      <th>valence</th>\n",
       "      <td>0.389</td>\n",
       "      <td>0.124</td>\n",
       "      <td>0.0391</td>\n",
       "      <td>0.175</td>\n",
       "      <td>0.591</td>\n",
       "    </tr>\n",
       "    <tr>\n",
       "      <th>tempo</th>\n",
       "      <td>156.985</td>\n",
       "      <td>115.08</td>\n",
       "      <td>218.05</td>\n",
       "      <td>186.948</td>\n",
       "      <td>147.988</td>\n",
       "    </tr>\n",
       "    <tr>\n",
       "      <th>type</th>\n",
       "      <td>audio_features</td>\n",
       "      <td>audio_features</td>\n",
       "      <td>audio_features</td>\n",
       "      <td>audio_features</td>\n",
       "      <td>audio_features</td>\n",
       "    </tr>\n",
       "    <tr>\n",
       "      <th>id</th>\n",
       "      <td>2Vc6NJ9PW9gD9q343XFRKx</td>\n",
       "      <td>7pgJBLVz5VmnL7uGHmRj6p</td>\n",
       "      <td>0vSWgAlfpye0WCGeNmuNhy</td>\n",
       "      <td>0VSXnJqQkwuH2ei1nOQ1nu</td>\n",
       "      <td>4jCeguq9rMTlbMmPHuO7S3</td>\n",
       "    </tr>\n",
       "    <tr>\n",
       "      <th>uri</th>\n",
       "      <td>spotify:track:2Vc6NJ9PW9gD9q343XFRKx</td>\n",
       "      <td>spotify:track:7pgJBLVz5VmnL7uGHmRj6p</td>\n",
       "      <td>spotify:track:0vSWgAlfpye0WCGeNmuNhy</td>\n",
       "      <td>spotify:track:0VSXnJqQkwuH2ei1nOQ1nu</td>\n",
       "      <td>spotify:track:4jCeguq9rMTlbMmPHuO7S3</td>\n",
       "    </tr>\n",
       "    <tr>\n",
       "      <th>track_href</th>\n",
       "      <td>https://api.spotify.com/v1/tracks/2Vc6NJ9PW9gD...</td>\n",
       "      <td>https://api.spotify.com/v1/tracks/7pgJBLVz5Vmn...</td>\n",
       "      <td>https://api.spotify.com/v1/tracks/0vSWgAlfpye0...</td>\n",
       "      <td>https://api.spotify.com/v1/tracks/0VSXnJqQkwuH...</td>\n",
       "      <td>https://api.spotify.com/v1/tracks/4jCeguq9rMTl...</td>\n",
       "    </tr>\n",
       "    <tr>\n",
       "      <th>analysis_url</th>\n",
       "      <td>https://api.spotify.com/v1/audio-analysis/2Vc6...</td>\n",
       "      <td>https://api.spotify.com/v1/audio-analysis/7pgJ...</td>\n",
       "      <td>https://api.spotify.com/v1/audio-analysis/0vSW...</td>\n",
       "      <td>https://api.spotify.com/v1/audio-analysis/0VSX...</td>\n",
       "      <td>https://api.spotify.com/v1/audio-analysis/4jCe...</td>\n",
       "    </tr>\n",
       "    <tr>\n",
       "      <th>duration_ms</th>\n",
       "      <td>124539</td>\n",
       "      <td>224427</td>\n",
       "      <td>98821</td>\n",
       "      <td>123661</td>\n",
       "      <td>123298</td>\n",
       "    </tr>\n",
       "    <tr>\n",
       "      <th>time_signature</th>\n",
       "      <td>4</td>\n",
       "      <td>4</td>\n",
       "      <td>4</td>\n",
       "      <td>3</td>\n",
       "      <td>4</td>\n",
       "    </tr>\n",
       "    <tr>\n",
       "      <th>genre</th>\n",
       "      <td>Dark Trap</td>\n",
       "      <td>Dark Trap</td>\n",
       "      <td>Dark Trap</td>\n",
       "      <td>Dark Trap</td>\n",
       "      <td>Dark Trap</td>\n",
       "    </tr>\n",
       "    <tr>\n",
       "      <th>song_name</th>\n",
       "      <td>Mercury: Retrograde</td>\n",
       "      <td>Pathology</td>\n",
       "      <td>Symbiote</td>\n",
       "      <td>ProductOfDrugs (Prod. The Virus and Antidote)</td>\n",
       "      <td>Venom</td>\n",
       "    </tr>\n",
       "    <tr>\n",
       "      <th>Unnamed: 0</th>\n",
       "      <td>NaN</td>\n",
       "      <td>NaN</td>\n",
       "      <td>NaN</td>\n",
       "      <td>NaN</td>\n",
       "      <td>NaN</td>\n",
       "    </tr>\n",
       "    <tr>\n",
       "      <th>title</th>\n",
       "      <td>NaN</td>\n",
       "      <td>NaN</td>\n",
       "      <td>NaN</td>\n",
       "      <td>NaN</td>\n",
       "      <td>NaN</td>\n",
       "    </tr>\n",
       "  </tbody>\n",
       "</table>\n",
       "</div>"
      ],
      "text/plain": [
       "                                                                  0  \\\n",
       "danceability                                                  0.831   \n",
       "energy                                                        0.814   \n",
       "key                                                               2   \n",
       "loudness                                                     -7.364   \n",
       "mode                                                              1   \n",
       "speechiness                                                    0.42   \n",
       "acousticness                                                 0.0598   \n",
       "instrumentalness                                             0.0134   \n",
       "liveness                                                     0.0556   \n",
       "valence                                                       0.389   \n",
       "tempo                                                       156.985   \n",
       "type                                                 audio_features   \n",
       "id                                           2Vc6NJ9PW9gD9q343XFRKx   \n",
       "uri                            spotify:track:2Vc6NJ9PW9gD9q343XFRKx   \n",
       "track_href        https://api.spotify.com/v1/tracks/2Vc6NJ9PW9gD...   \n",
       "analysis_url      https://api.spotify.com/v1/audio-analysis/2Vc6...   \n",
       "duration_ms                                                  124539   \n",
       "time_signature                                                    4   \n",
       "genre                                                     Dark Trap   \n",
       "song_name                                       Mercury: Retrograde   \n",
       "Unnamed: 0                                                      NaN   \n",
       "title                                                           NaN   \n",
       "\n",
       "                                                                  1  \\\n",
       "danceability                                                  0.719   \n",
       "energy                                                        0.493   \n",
       "key                                                               8   \n",
       "loudness                                                      -7.23   \n",
       "mode                                                              1   \n",
       "speechiness                                                  0.0794   \n",
       "acousticness                                                  0.401   \n",
       "instrumentalness                                                  0   \n",
       "liveness                                                      0.118   \n",
       "valence                                                       0.124   \n",
       "tempo                                                        115.08   \n",
       "type                                                 audio_features   \n",
       "id                                           7pgJBLVz5VmnL7uGHmRj6p   \n",
       "uri                            spotify:track:7pgJBLVz5VmnL7uGHmRj6p   \n",
       "track_href        https://api.spotify.com/v1/tracks/7pgJBLVz5Vmn...   \n",
       "analysis_url      https://api.spotify.com/v1/audio-analysis/7pgJ...   \n",
       "duration_ms                                                  224427   \n",
       "time_signature                                                    4   \n",
       "genre                                                     Dark Trap   \n",
       "song_name                                                 Pathology   \n",
       "Unnamed: 0                                                      NaN   \n",
       "title                                                           NaN   \n",
       "\n",
       "                                                                  2  \\\n",
       "danceability                                                   0.85   \n",
       "energy                                                        0.893   \n",
       "key                                                               5   \n",
       "loudness                                                     -4.783   \n",
       "mode                                                              1   \n",
       "speechiness                                                  0.0623   \n",
       "acousticness                                                 0.0138   \n",
       "instrumentalness                                           4.14e-06   \n",
       "liveness                                                      0.372   \n",
       "valence                                                      0.0391   \n",
       "tempo                                                        218.05   \n",
       "type                                                 audio_features   \n",
       "id                                           0vSWgAlfpye0WCGeNmuNhy   \n",
       "uri                            spotify:track:0vSWgAlfpye0WCGeNmuNhy   \n",
       "track_href        https://api.spotify.com/v1/tracks/0vSWgAlfpye0...   \n",
       "analysis_url      https://api.spotify.com/v1/audio-analysis/0vSW...   \n",
       "duration_ms                                                   98821   \n",
       "time_signature                                                    4   \n",
       "genre                                                     Dark Trap   \n",
       "song_name                                                  Symbiote   \n",
       "Unnamed: 0                                                      NaN   \n",
       "title                                                           NaN   \n",
       "\n",
       "                                                                  3  \\\n",
       "danceability                                                  0.476   \n",
       "energy                                                        0.781   \n",
       "key                                                               0   \n",
       "loudness                                                      -4.71   \n",
       "mode                                                              1   \n",
       "speechiness                                                   0.103   \n",
       "acousticness                                                 0.0237   \n",
       "instrumentalness                                                  0   \n",
       "liveness                                                      0.114   \n",
       "valence                                                       0.175   \n",
       "tempo                                                       186.948   \n",
       "type                                                 audio_features   \n",
       "id                                           0VSXnJqQkwuH2ei1nOQ1nu   \n",
       "uri                            spotify:track:0VSXnJqQkwuH2ei1nOQ1nu   \n",
       "track_href        https://api.spotify.com/v1/tracks/0VSXnJqQkwuH...   \n",
       "analysis_url      https://api.spotify.com/v1/audio-analysis/0VSX...   \n",
       "duration_ms                                                  123661   \n",
       "time_signature                                                    3   \n",
       "genre                                                     Dark Trap   \n",
       "song_name             ProductOfDrugs (Prod. The Virus and Antidote)   \n",
       "Unnamed: 0                                                      NaN   \n",
       "title                                                           NaN   \n",
       "\n",
       "                                                                  4  \n",
       "danceability                                                  0.798  \n",
       "energy                                                        0.624  \n",
       "key                                                               2  \n",
       "loudness                                                     -7.668  \n",
       "mode                                                              1  \n",
       "speechiness                                                   0.293  \n",
       "acousticness                                                  0.217  \n",
       "instrumentalness                                                  0  \n",
       "liveness                                                      0.166  \n",
       "valence                                                       0.591  \n",
       "tempo                                                       147.988  \n",
       "type                                                 audio_features  \n",
       "id                                           4jCeguq9rMTlbMmPHuO7S3  \n",
       "uri                            spotify:track:4jCeguq9rMTlbMmPHuO7S3  \n",
       "track_href        https://api.spotify.com/v1/tracks/4jCeguq9rMTl...  \n",
       "analysis_url      https://api.spotify.com/v1/audio-analysis/4jCe...  \n",
       "duration_ms                                                  123298  \n",
       "time_signature                                                    4  \n",
       "genre                                                     Dark Trap  \n",
       "song_name                                                     Venom  \n",
       "Unnamed: 0                                                      NaN  \n",
       "title                                                           NaN  "
      ]
     },
     "execution_count": 5,
     "metadata": {},
     "output_type": "execute_result"
    }
   ],
   "source": [
    "songs_df.head().T"
   ]
  },
  {
   "cell_type": "code",
   "execution_count": 6,
   "metadata": {},
   "outputs": [],
   "source": [
    "genre_counts = songs_df.groupby('genre')['mode'].count()"
   ]
  },
  {
   "cell_type": "code",
   "execution_count": 7,
   "metadata": {},
   "outputs": [
    {
     "data": {
      "text/plain": [
       "genre\n",
       "Dark Trap          4578\n",
       "Emo                1680\n",
       "Hiphop             3028\n",
       "Pop                 461\n",
       "Rap                1848\n",
       "RnB                2099\n",
       "Trap Metal         1956\n",
       "Underground Rap    5875\n",
       "dnb                2966\n",
       "hardstyle          2936\n",
       "psytrance          2961\n",
       "techhouse          2975\n",
       "techno             2956\n",
       "trance             2999\n",
       "trap               2987\n",
       "Name: mode, dtype: int64"
      ]
     },
     "execution_count": 7,
     "metadata": {},
     "output_type": "execute_result"
    }
   ],
   "source": [
    "genre_counts"
   ]
  },
  {
   "cell_type": "code",
   "execution_count": 8,
   "metadata": {},
   "outputs": [
    {
     "name": "stderr",
     "output_type": "stream",
     "text": [
      "C:\\Users\\Admin\\anaconda3\\lib\\site-packages\\seaborn\\_decorators.py:36: FutureWarning: Pass the following variables as keyword args: x, y. From version 0.12, the only valid positional argument will be `data`, and passing other arguments without an explicit keyword will result in an error or misinterpretation.\n",
      "  warnings.warn(\n"
     ]
    },
    {
     "data": {
      "image/png": "[encoded data removed]",
      "text/plain": [
       "<Figure size 1440x1440 with 1 Axes>"
      ]
     },
     "metadata": {
      "needs_background": "light"
     },
     "output_type": "display_data"
    }
   ],
   "source": [
    "plt.figure(figsize=(20,20))\n",
    "plt.title('Genre Counts', size=16)\n",
    "plt.xticks(size=14)\n",
    "\n",
    "\n",
    "g = sns.barplot(genre_counts.index, genre_counts.values);\n",
    "\n",
    "for index, row in enumerate(genre_counts):\n",
    "     g.text(index, row-100, row, color='white', ha=\"center\", size='16', weight='bold')\n",
    "\n",
    "plt.show()"
   ]
  },
  {
   "cell_type": "code",
   "execution_count": 9,
   "metadata": {},
   "outputs": [
    {
     "data": {
      "text/plain": [
       "danceability            0\n",
       "energy                  0\n",
       "key                     0\n",
       "loudness                0\n",
       "mode                    0\n",
       "speechiness             0\n",
       "acousticness            0\n",
       "instrumentalness        0\n",
       "liveness                0\n",
       "valence                 0\n",
       "tempo                   0\n",
       "type                    0\n",
       "id                      0\n",
       "uri                     0\n",
       "track_href              0\n",
       "analysis_url            0\n",
       "duration_ms             0\n",
       "time_signature          0\n",
       "genre                   0\n",
       "song_name           20786\n",
       "Unnamed: 0          21525\n",
       "title               21525\n",
       "dtype: int64"
      ]
     },
     "execution_count": 9,
     "metadata": {},
     "output_type": "execute_result"
    }
   ],
   "source": [
    "songs_df.isna().sum()"
   ]
  },
  {
   "cell_type": "code",
   "execution_count": 10,
   "metadata": {},
   "outputs": [
    {
     "data": {
      "text/plain": [
       "danceability        float64\n",
       "energy              float64\n",
       "key                   int64\n",
       "loudness            float64\n",
       "mode                  int64\n",
       "speechiness         float64\n",
       "acousticness        float64\n",
       "instrumentalness    float64\n",
       "liveness            float64\n",
       "valence             float64\n",
       "tempo               float64\n",
       "type                 object\n",
       "id                   object\n",
       "uri                  object\n",
       "track_href           object\n",
       "analysis_url         object\n",
       "duration_ms           int64\n",
       "time_signature        int64\n",
       "genre                object\n",
       "song_name            object\n",
       "Unnamed: 0          float64\n",
       "title                object\n",
       "dtype: object"
      ]
     },
     "execution_count": 10,
     "metadata": {},
     "output_type": "execute_result"
    }
   ],
   "source": [
    "songs_df.dtypes"
   ]
  },
  {
   "cell_type": "code",
   "execution_count": 11,
   "metadata": {},
   "outputs": [],
   "source": [
    "corr_df=songs_df.corr()"
   ]
  },
  {
   "cell_type": "code",
   "execution_count": 12,
   "metadata": {},
   "outputs": [
    {
     "data": {
      "text/plain": [
       "<AxesSubplot:>"
      ]
     },
     "execution_count": 12,
     "metadata": {},
     "output_type": "execute_result"
    },
    {
     "data": {
      "image/png": "[encoded data removed]",
      "text/plain": [
       "<Figure size 1440x1440 with 2 Axes>"
      ]
     },
     "metadata": {
      "needs_background": "light"
     },
     "output_type": "display_data"
    }
   ],
   "source": [
    "plt.figure(figsize=(20,20))\n",
    "sns.heatmap(corr_df,cmap='YlGnBu',annot=True)"
   ]
  },
  {
   "cell_type": "code",
   "execution_count": 13,
   "metadata": {},
   "outputs": [],
   "source": [
    "final_data=songs_df.drop([\"title\",\"Unnamed: 0\",\"song_name\",\"analysis_url\",\"track_href\",\"uri\",\"id\",\"type\"],axis=1)"
   ]
  },
  {
   "cell_type": "code",
   "execution_count": 14,
   "metadata": {},
   "outputs": [
    {
     "data": {
      "text/html": [
       "<div>\n",
       "<style scoped>\n",
       "    .dataframe tbody tr th:only-of-type {\n",
       "        vertical-align: middle;\n",
       "    }\n",
       "\n",
       "    .dataframe tbody tr th {\n",
       "        vertical-align: top;\n",
       "    }\n",
       "\n",
       "    .dataframe thead th {\n",
       "        text-align: right;\n",
       "    }\n",
       "</style>\n",
       "<table border=\"1\" class=\"dataframe\">\n",
       "  <thead>\n",
       "    <tr style=\"text-align: right;\">\n",
       "      <th></th>\n",
       "      <th>danceability</th>\n",
       "      <th>energy</th>\n",
       "      <th>key</th>\n",
       "      <th>loudness</th>\n",
       "      <th>mode</th>\n",
       "      <th>speechiness</th>\n",
       "      <th>acousticness</th>\n",
       "      <th>instrumentalness</th>\n",
       "      <th>liveness</th>\n",
       "      <th>valence</th>\n",
       "      <th>tempo</th>\n",
       "      <th>duration_ms</th>\n",
       "      <th>time_signature</th>\n",
       "      <th>genre</th>\n",
       "    </tr>\n",
       "  </thead>\n",
       "  <tbody>\n",
       "    <tr>\n",
       "      <th>0</th>\n",
       "      <td>0.831</td>\n",
       "      <td>0.814</td>\n",
       "      <td>2</td>\n",
       "      <td>-7.364</td>\n",
       "      <td>1</td>\n",
       "      <td>0.4200</td>\n",
       "      <td>0.0598</td>\n",
       "      <td>0.013400</td>\n",
       "      <td>0.0556</td>\n",
       "      <td>0.3890</td>\n",
       "      <td>156.985</td>\n",
       "      <td>124539</td>\n",
       "      <td>4</td>\n",
       "      <td>Dark Trap</td>\n",
       "    </tr>\n",
       "    <tr>\n",
       "      <th>1</th>\n",
       "      <td>0.719</td>\n",
       "      <td>0.493</td>\n",
       "      <td>8</td>\n",
       "      <td>-7.230</td>\n",
       "      <td>1</td>\n",
       "      <td>0.0794</td>\n",
       "      <td>0.4010</td>\n",
       "      <td>0.000000</td>\n",
       "      <td>0.1180</td>\n",
       "      <td>0.1240</td>\n",
       "      <td>115.080</td>\n",
       "      <td>224427</td>\n",
       "      <td>4</td>\n",
       "      <td>Dark Trap</td>\n",
       "    </tr>\n",
       "    <tr>\n",
       "      <th>2</th>\n",
       "      <td>0.850</td>\n",
       "      <td>0.893</td>\n",
       "      <td>5</td>\n",
       "      <td>-4.783</td>\n",
       "      <td>1</td>\n",
       "      <td>0.0623</td>\n",
       "      <td>0.0138</td>\n",
       "      <td>0.000004</td>\n",
       "      <td>0.3720</td>\n",
       "      <td>0.0391</td>\n",
       "      <td>218.050</td>\n",
       "      <td>98821</td>\n",
       "      <td>4</td>\n",
       "      <td>Dark Trap</td>\n",
       "    </tr>\n",
       "    <tr>\n",
       "      <th>3</th>\n",
       "      <td>0.476</td>\n",
       "      <td>0.781</td>\n",
       "      <td>0</td>\n",
       "      <td>-4.710</td>\n",
       "      <td>1</td>\n",
       "      <td>0.1030</td>\n",
       "      <td>0.0237</td>\n",
       "      <td>0.000000</td>\n",
       "      <td>0.1140</td>\n",
       "      <td>0.1750</td>\n",
       "      <td>186.948</td>\n",
       "      <td>123661</td>\n",
       "      <td>3</td>\n",
       "      <td>Dark Trap</td>\n",
       "    </tr>\n",
       "    <tr>\n",
       "      <th>4</th>\n",
       "      <td>0.798</td>\n",
       "      <td>0.624</td>\n",
       "      <td>2</td>\n",
       "      <td>-7.668</td>\n",
       "      <td>1</td>\n",
       "      <td>0.2930</td>\n",
       "      <td>0.2170</td>\n",
       "      <td>0.000000</td>\n",
       "      <td>0.1660</td>\n",
       "      <td>0.5910</td>\n",
       "      <td>147.988</td>\n",
       "      <td>123298</td>\n",
       "      <td>4</td>\n",
       "      <td>Dark Trap</td>\n",
       "    </tr>\n",
       "  </tbody>\n",
       "</table>\n",
       "</div>"
      ],
      "text/plain": [
       "   danceability  energy  key  loudness  mode  speechiness  acousticness  \\\n",
       "0         0.831   0.814    2    -7.364     1       0.4200        0.0598   \n",
       "1         0.719   0.493    8    -7.230     1       0.0794        0.4010   \n",
       "2         0.850   0.893    5    -4.783     1       0.0623        0.0138   \n",
       "3         0.476   0.781    0    -4.710     1       0.1030        0.0237   \n",
       "4         0.798   0.624    2    -7.668     1       0.2930        0.2170   \n",
       "\n",
       "   instrumentalness  liveness  valence    tempo  duration_ms  time_signature  \\\n",
       "0          0.013400    0.0556   0.3890  156.985       124539               4   \n",
       "1          0.000000    0.1180   0.1240  115.080       224427               4   \n",
       "2          0.000004    0.3720   0.0391  218.050        98821               4   \n",
       "3          0.000000    0.1140   0.1750  186.948       123661               3   \n",
       "4          0.000000    0.1660   0.5910  147.988       123298               4   \n",
       "\n",
       "       genre  \n",
       "0  Dark Trap  \n",
       "1  Dark Trap  \n",
       "2  Dark Trap  \n",
       "3  Dark Trap  \n",
       "4  Dark Trap  "
      ]
     },
     "execution_count": 14,
     "metadata": {},
     "output_type": "execute_result"
    }
   ],
   "source": [
    "final_data.head()"
   ]
  },
  {
   "cell_type": "code",
   "execution_count": 15,
   "metadata": {},
   "outputs": [],
   "source": [
    "X=final_data.drop(\"genre\",axis=1)\n",
    "y=final_data[\"genre\"]"
   ]
  },
  {
   "cell_type": "code",
   "execution_count": 16,
   "metadata": {},
   "outputs": [],
   "source": [
    "from sklearn.model_selection import train_test_split"
   ]
  },
  {
   "cell_type": "code",
   "execution_count": 17,
   "metadata": {},
   "outputs": [],
   "source": [
    "X_train,X_test,y_train,y_test=train_test_split(X,y,test_size=0.30,random_state=101)"
   ]
  },
  {
   "cell_type": "markdown",
   "metadata": {},
   "source": [
    "# logistic regression"
   ]
  },
  {
   "cell_type": "code",
   "execution_count": 18,
   "metadata": {},
   "outputs": [],
   "source": [
    "from sklearn.linear_model import LogisticRegression"
   ]
  },
  {
   "cell_type": "code",
   "execution_count": 19,
   "metadata": {},
   "outputs": [],
   "source": [
    "logmodel=LogisticRegression()"
   ]
  },
  {
   "cell_type": "code",
   "execution_count": 20,
   "metadata": {},
   "outputs": [
    {
     "data": {
      "text/plain": [
       "LogisticRegression()"
      ]
     },
     "execution_count": 20,
     "metadata": {},
     "output_type": "execute_result"
    }
   ],
   "source": [
    "logmodel.fit(X_train,y_train)"
   ]
  },
  {
   "cell_type": "code",
   "execution_count": 21,
   "metadata": {},
   "outputs": [],
   "source": [
    "predictions = logmodel.predict(X_test)"
   ]
  },
  {
   "cell_type": "code",
   "execution_count": 22,
   "metadata": {},
   "outputs": [],
   "source": [
    "from sklearn.metrics import confusion_matrix"
   ]
  },
  {
   "cell_type": "code",
   "execution_count": 23,
   "metadata": {},
   "outputs": [],
   "source": [
    "accuracy=confusion_matrix(y_test,predictions)"
   ]
  },
  {
   "cell_type": "code",
   "execution_count": 24,
   "metadata": {},
   "outputs": [
    {
     "data": {
      "text/plain": [
       "array([[   0,    0,    0,    0,    0,    0,    0, 1028,  253,    0,   22,\n",
       "           9,    0,   89,    0],\n",
       "       [   0,    0,    0,    0,    0,    0,    0,  333,  125,    0,    9,\n",
       "           1,    0,   35,    0],\n",
       "       [   0,    0,    0,    0,    0,    0,    0,  652,  216,    0,   21,\n",
       "           8,    1,   71,    0],\n",
       "       [   0,    0,    0,    0,    0,    0,    0,   81,   42,    0,    2,\n",
       "           1,    0,   12,    0],\n",
       "       [   0,    0,    0,    0,    0,    0,    0,  280,  132,    0,   57,\n",
       "          11,    0,   67,    0],\n",
       "       [   0,    0,    0,    0,    0,    0,    0,  354,  163,    0,   11,\n",
       "           8,    0,   58,    0],\n",
       "       [   0,    0,    0,    0,    0,    0,    0,  547,   29,    0,    1,\n",
       "           1,    0,    2,    0],\n",
       "       [   0,    0,    0,    0,    0,    0,    0, 1507,  217,    0,   14,\n",
       "           6,    0,   53,    0],\n",
       "       [   0,    0,    0,    0,    0,    0,    0,  311,  461,    0,    5,\n",
       "           1,    0,   86,    0],\n",
       "       [   0,    0,    0,    0,    0,    0,    0,  531,  245,    0,   18,\n",
       "           5,    0,   73,    0],\n",
       "       [   0,    0,    0,    0,    0,    0,    0,    7,   15,    0,  777,\n",
       "          26,    0,   47,    0],\n",
       "       [   0,    0,    0,    0,    0,    0,    0,  147,  277,    0,  383,\n",
       "          28,    0,   97,    0],\n",
       "       [   0,    0,    0,    0,    0,    0,    0,    6,   28,    0,  722,\n",
       "          33,    0,   66,    0],\n",
       "       [   0,    0,    0,    0,    0,    0,    0,  224,  323,    0,  251,\n",
       "          13,    0,   93,    0],\n",
       "       [   0,    0,    0,    0,    0,    0,    0,  502,  315,    0,    1,\n",
       "           0,    0,   46,    0]], dtype=int64)"
      ]
     },
     "execution_count": 24,
     "metadata": {},
     "output_type": "execute_result"
    }
   ],
   "source": [
    "accuracy"
   ]
  },
  {
   "cell_type": "code",
   "execution_count": 25,
   "metadata": {},
   "outputs": [],
   "source": [
    "from sklearn.metrics import accuracy_score"
   ]
  },
  {
   "cell_type": "code",
   "execution_count": 26,
   "metadata": {},
   "outputs": [],
   "source": [
    "accuracy=accuracy_score(y_test,predictions)"
   ]
  },
  {
   "cell_type": "code",
   "execution_count": 27,
   "metadata": {},
   "outputs": [
    {
     "data": {
      "text/plain": [
       "0.22581153482508667"
      ]
     },
     "execution_count": 27,
     "metadata": {},
     "output_type": "execute_result"
    }
   ],
   "source": [
    "accuracy"
   ]
  },
  {
   "cell_type": "markdown",
   "metadata": {},
   "source": [
    "# KNN"
   ]
  },
  {
   "cell_type": "code",
   "execution_count": 28,
   "metadata": {},
   "outputs": [],
   "source": [
    "from sklearn.neighbors import KNeighborsClassifier"
   ]
  },
  {
   "cell_type": "code",
   "execution_count": 29,
   "metadata": {},
   "outputs": [],
   "source": [
    "knn=KNeighborsClassifier(n_neighbors=1)"
   ]
  },
  {
   "cell_type": "code",
   "execution_count": 30,
   "metadata": {},
   "outputs": [
    {
     "data": {
      "text/plain": [
       "KNeighborsClassifier(n_neighbors=1)"
      ]
     },
     "execution_count": 30,
     "metadata": {},
     "output_type": "execute_result"
    }
   ],
   "source": [
    "knn.fit(X_train,y_train)"
   ]
  },
  {
   "cell_type": "code",
   "execution_count": 31,
   "metadata": {},
   "outputs": [],
   "source": [
    "pred=knn.predict(X_test)"
   ]
  },
  {
   "cell_type": "code",
   "execution_count": 32,
   "metadata": {},
   "outputs": [
    {
     "data": {
      "text/plain": [
       "array(['Underground Rap', 'dnb', 'Rap', ..., 'hardstyle',\n",
       "       'Underground Rap', 'dnb'], dtype=object)"
      ]
     },
     "execution_count": 32,
     "metadata": {},
     "output_type": "execute_result"
    }
   ],
   "source": [
    "pred"
   ]
  },
  {
   "cell_type": "code",
   "execution_count": 33,
   "metadata": {},
   "outputs": [],
   "source": [
    "from sklearn.metrics import classification_report,confusion_matrix"
   ]
  },
  {
   "cell_type": "code",
   "execution_count": 34,
   "metadata": {},
   "outputs": [
    {
     "name": "stdout",
     "output_type": "stream",
     "text": [
      "[[232  45  93  13  63  67 159 383  26  75  14  54  17  85  75]\n",
      " [ 52  86  48  18  20  38   9  63  28  38   5  27   5  28  38]\n",
      " [ 91  58 165  13  58  90  29 222  98  40   7  25  16  28  29]\n",
      " [ 14  23  13   6   6  17   4  16   6   7   0  13   0  11   2]\n",
      " [ 62  23  62   6  64  37  31 152   6  26   4  29   8  22  15]\n",
      " [ 53  46  85  14  36  77  14  83  49  35   6  28  10  27  31]\n",
      " [135  11  21   4  15  17  84 241   3  11   0   7   2  14  15]\n",
      " [357  61 205  22 125 105 260 381  52  69   5  43   4  57  51]\n",
      " [ 24  21  67   4  12  32   2  27 557  37  22  10  20  11  18]\n",
      " [ 37  29  26   6  18  20  17  44  27 450  10  10  23  33 122]\n",
      " [  9   4   2   1   2   0   0   2   5  14 552  33 137 101  10]\n",
      " [ 48  16  10   7  21  18   2  25   6  13  43 541 115  62   5]\n",
      " [ 12   8   5   0   8   6   2   6  11  24 138 130 409  90   6]\n",
      " [ 87  23  30   3  27  26  17  67  14  36  87  76  94 263  54]\n",
      " [ 47  13  23   0  20  19  13  28  16 111   7   7   3  34 523]]\n",
      "                 precision    recall  f1-score   support\n",
      "\n",
      "      Dark Trap       0.18      0.17      0.17      1401\n",
      "            Emo       0.18      0.17      0.18       503\n",
      "         Hiphop       0.19      0.17      0.18       969\n",
      "            Pop       0.05      0.04      0.05       138\n",
      "            Rap       0.13      0.12      0.12       547\n",
      "            RnB       0.14      0.13      0.13       594\n",
      "     Trap Metal       0.13      0.14      0.14       580\n",
      "Underground Rap       0.22      0.21      0.22      1797\n",
      "            dnb       0.62      0.64      0.63       864\n",
      "      hardstyle       0.46      0.52      0.48       872\n",
      "      psytrance       0.61      0.63      0.62       872\n",
      "      techhouse       0.52      0.58      0.55       932\n",
      "         techno       0.47      0.48      0.48       855\n",
      "         trance       0.30      0.29      0.30       904\n",
      "           trap       0.53      0.61      0.56       864\n",
      "\n",
      "       accuracy                           0.35     12692\n",
      "      macro avg       0.32      0.33      0.32     12692\n",
      "   weighted avg       0.34      0.35      0.34     12692\n",
      "\n"
     ]
    }
   ],
   "source": [
    "print(confusion_matrix(y_test,pred))\n",
    "print(classification_report(y_test,pred))"
   ]
  },
  {
   "cell_type": "markdown",
   "metadata": {},
   "source": [
    "# Random forest classifier"
   ]
  },
  {
   "cell_type": "code",
   "execution_count": 35,
   "metadata": {},
   "outputs": [],
   "source": [
    "from sklearn.ensemble import RandomForestClassifier"
   ]
  },
  {
   "cell_type": "code",
   "execution_count": 36,
   "metadata": {},
   "outputs": [],
   "source": [
    "rfc=RandomForestClassifier(n_estimators=200)"
   ]
  },
  {
   "cell_type": "code",
   "execution_count": 37,
   "metadata": {},
   "outputs": [
    {
     "data": {
      "text/plain": [
       "RandomForestClassifier(n_estimators=200)"
      ]
     },
     "execution_count": 37,
     "metadata": {},
     "output_type": "execute_result"
    }
   ],
   "source": [
    "rfc.fit(X_train,y_train)"
   ]
  },
  {
   "cell_type": "code",
   "execution_count": 38,
   "metadata": {},
   "outputs": [],
   "source": [
    "predictions1=rfc.predict(X_test)"
   ]
  },
  {
   "cell_type": "code",
   "execution_count": 39,
   "metadata": {},
   "outputs": [
    {
     "name": "stdout",
     "output_type": "stream",
     "text": [
      "[[653   8  27   2  18  29 101 394  15  30   5  12  10  73  24]\n",
      " [ 16 348   9  12   0  40   3  38   7  14   0   0   1   9   6]\n",
      " [ 74  19 353   2  41 132  10 315   7   3   0   5   0   3   5]\n",
      " [  4  35   3   9   0  41   0  33   1   1   0   6   0   5   0]\n",
      " [ 25   4  46   0 155  32   4 274   0   1   1   1   0   1   3]\n",
      " [ 34  25 121   5  13 230   0 155   2   3   0   5   0   1   0]\n",
      " [114   8   9   1   5   1 139 265   3   7   0   4   0   5  19]\n",
      " [252  16 242   2  86  71 159 954   4   1   0   6   0   0   4]\n",
      " [  4   5   2   0   0   1   0   0 852   0   0   0   0   0   0]\n",
      " [  9   7   0   0   0   0   1   1   0 803   9   0   0   1  41]\n",
      " [  8   0   0   0   0   0   0   0   0   1 801   0  21  33   8]\n",
      " [  8   4   0   1   0   0   1   9   0   0   0 847  55   7   0]\n",
      " [  8   0   0   0   0   0   0   0   0   0  21  55 736  35   0]\n",
      " [ 26   6   0   0   0   2   0   2   0   0  30  12  42 779   5]\n",
      " [ 42   6   4   0   1   2   5   9   0  48   1   0   0   3 743]]\n",
      "\n",
      "\n",
      "                 precision    recall  f1-score   support\n",
      "\n",
      "      Dark Trap       0.51      0.47      0.49      1401\n",
      "            Emo       0.71      0.69      0.70       503\n",
      "         Hiphop       0.43      0.36      0.40       969\n",
      "            Pop       0.26      0.07      0.10       138\n",
      "            Rap       0.49      0.28      0.36       547\n",
      "            RnB       0.40      0.39      0.39       594\n",
      "     Trap Metal       0.33      0.24      0.28       580\n",
      "Underground Rap       0.39      0.53      0.45      1797\n",
      "            dnb       0.96      0.99      0.97       864\n",
      "      hardstyle       0.88      0.92      0.90       872\n",
      "      psytrance       0.92      0.92      0.92       872\n",
      "      techhouse       0.89      0.91      0.90       932\n",
      "         techno       0.85      0.86      0.86       855\n",
      "         trance       0.82      0.86      0.84       904\n",
      "           trap       0.87      0.86      0.86       864\n",
      "\n",
      "       accuracy                           0.66     12692\n",
      "      macro avg       0.65      0.62      0.63     12692\n",
      "   weighted avg       0.66      0.66      0.66     12692\n",
      "\n"
     ]
    }
   ],
   "source": [
    "print(confusion_matrix(y_test,predictions1))\n",
    "print('\\n')\n",
    "print(classification_report(y_test,predictions1))"
   ]
  },
  {
   "cell_type": "markdown",
   "metadata": {},
   "source": [
    "# Gaussian Naive beyes"
   ]
  },
  {
   "cell_type": "code",
   "execution_count": 40,
   "metadata": {},
   "outputs": [],
   "source": [
    "from sklearn.naive_bayes import GaussianNB"
   ]
  },
  {
   "cell_type": "code",
   "execution_count": 41,
   "metadata": {},
   "outputs": [],
   "source": [
    "GnB=GaussianNB()"
   ]
  },
  {
   "cell_type": "code",
   "execution_count": 42,
   "metadata": {},
   "outputs": [
    {
     "data": {
      "text/plain": [
       "GaussianNB()"
      ]
     },
     "execution_count": 42,
     "metadata": {},
     "output_type": "execute_result"
    }
   ],
   "source": [
    "GnB.fit(X_train, y_train)"
   ]
  },
  {
   "cell_type": "code",
   "execution_count": 44,
   "metadata": {},
   "outputs": [],
   "source": [
    "predictions2=GnB.predict(X_test)"
   ]
  },
  {
   "cell_type": "code",
   "execution_count": 45,
   "metadata": {},
   "outputs": [
    {
     "name": "stdout",
     "output_type": "stream",
     "text": [
      "[[  44    0   63    0   10    0    8  753   24   96    6  174   12  155\n",
      "    56]\n",
      " [   5    0   49    0   36    0    0  177   46   55    0   48    2   36\n",
      "    49]\n",
      " [  31    0  228    0   48    0    0  353  124   46   11   54    1   48\n",
      "    25]\n",
      " [   0    0   22    0   12    0    0   45    3    5    0   31    1   13\n",
      "     6]\n",
      " [   5    0    3    0  154    0    0  170   19   54    3   55    3   36\n",
      "    45]\n",
      " [  18    0  117    0   26    0    0  190   40   50    2   78    2   43\n",
      "    28]\n",
      " [   6    0   10    0    4    0    7  421    5   52    1   39    0   19\n",
      "    16]\n",
      " [  33    1   99    0   46    0    6 1160   79  101    3  122    5   80\n",
      "    62]\n",
      " [   0    0    0    0    0    0    0   11  853    0    0    0    0    0\n",
      "     0]\n",
      " [   0    0    0    0    0    0    0    4    0  779   44    0    0    0\n",
      "    45]\n",
      " [   0    0    0    0    0    0    0    4    0    3  796    2   18   42\n",
      "     7]\n",
      " [   0    0    0    0    0    0    0    4    0    0    0  704  220    4\n",
      "     0]\n",
      " [   3    0    0    0    0    0    0    2    0    0   22   63  697   68\n",
      "     0]\n",
      " [   5    0    0    0    0    0    0   87    0    0  149  135   93  383\n",
      "    52]\n",
      " [   3    0    5    0    0    0    1   39    0  334    5    0    0   33\n",
      "   444]]\n",
      "\n",
      "\n"
     ]
    },
    {
     "name": "stderr",
     "output_type": "stream",
     "text": [
      "C:\\Users\\Admin\\anaconda3\\lib\\site-packages\\sklearn\\metrics\\_classification.py:1221: UndefinedMetricWarning: Precision and F-score are ill-defined and being set to 0.0 in labels with no predicted samples. Use `zero_division` parameter to control this behavior.\n",
      "  _warn_prf(average, modifier, msg_start, len(result))\n"
     ]
    },
    {
     "name": "stdout",
     "output_type": "stream",
     "text": [
      "                 precision    recall  f1-score   support\n",
      "\n",
      "      Dark Trap       0.29      0.03      0.06      1401\n",
      "            Emo       0.00      0.00      0.00       503\n",
      "         Hiphop       0.38      0.24      0.29       969\n",
      "            Pop       0.00      0.00      0.00       138\n",
      "            Rap       0.46      0.28      0.35       547\n",
      "            RnB       0.00      0.00      0.00       594\n",
      "     Trap Metal       0.32      0.01      0.02       580\n",
      "Underground Rap       0.34      0.65      0.44      1797\n",
      "            dnb       0.72      0.99      0.83       864\n",
      "      hardstyle       0.49      0.89      0.64       872\n",
      "      psytrance       0.76      0.91      0.83       872\n",
      "      techhouse       0.47      0.76      0.58       932\n",
      "         techno       0.66      0.82      0.73       855\n",
      "         trance       0.40      0.42      0.41       904\n",
      "           trap       0.53      0.51      0.52       864\n",
      "\n",
      "       accuracy                           0.49     12692\n",
      "      macro avg       0.39      0.43      0.38     12692\n",
      "   weighted avg       0.42      0.49      0.42     12692\n",
      "\n"
     ]
    }
   ],
   "source": [
    "print(confusion_matrix(y_test,predictions2))\n",
    "print('\\n')\n",
    "print(classification_report(y_test,predictions2))"
   ]
  },
  {
   "cell_type": "markdown",
   "metadata": {},
   "source": [
    "# Hyperparameter Tuning "
   ]
  },
  {
   "cell_type": "code",
   "execution_count": 47,
   "metadata": {},
   "outputs": [],
   "source": [
    "# Logistic Regression HPT\n",
    "\n",
    "from sklearn.model_selection import RandomizedSearchCV, GridSearchCV"
   ]
  },
  {
   "cell_type": "code",
   "execution_count": 49,
   "metadata": {},
   "outputs": [],
   "source": [
    "logmodel_grid={\"C\": np.logspace(-4,4,20),\n",
    "             \"solver\":[\"liblinear\"]}"
   ]
  },
  {
   "cell_type": "code",
   "execution_count": 60,
   "metadata": {},
   "outputs": [],
   "source": [
    "np.random.seed(1)\n"
   ]
  },
  {
   "cell_type": "code",
   "execution_count": 61,
   "metadata": {},
   "outputs": [],
   "source": [
    "rs_logmodel=RandomizedSearchCV(LogisticRegression(),param_distributions=logmodel_grid,cv=5, n_iter=20,verbose=True)"
   ]
  },
  {
   "cell_type": "code",
   "execution_count": 63,
   "metadata": {},
   "outputs": [
    {
     "name": "stdout",
     "output_type": "stream",
     "text": [
      "Fitting 5 folds for each of 20 candidates, totalling 100 fits\n"
     ]
    },
    {
     "name": "stderr",
     "output_type": "stream",
     "text": [
      "[Parallel(n_jobs=1)]: Using backend SequentialBackend with 1 concurrent workers.\n",
      "[Parallel(n_jobs=1)]: Done 100 out of 100 | elapsed:  2.6min finished\n"
     ]
    },
    {
     "data": {
      "text/plain": [
       "RandomizedSearchCV(cv=5, estimator=LogisticRegression(), n_iter=20,\n",
       "                   param_distributions={'C': array([1.00000000e-04, 2.63665090e-04, 6.95192796e-04, 1.83298071e-03,\n",
       "       4.83293024e-03, 1.27427499e-02, 3.35981829e-02, 8.85866790e-02,\n",
       "       2.33572147e-01, 6.15848211e-01, 1.62377674e+00, 4.28133240e+00,\n",
       "       1.12883789e+01, 2.97635144e+01, 7.84759970e+01, 2.06913808e+02,\n",
       "       5.45559478e+02, 1.43844989e+03, 3.79269019e+03, 1.00000000e+04]),\n",
       "                                        'solver': ['liblinear']},\n",
       "                   verbose=True)"
      ]
     },
     "execution_count": 63,
     "metadata": {},
     "output_type": "execute_result"
    }
   ],
   "source": [
    "rs_logmodel.fit(X_train,y_train)"
   ]
  },
  {
   "cell_type": "code",
   "execution_count": 64,
   "metadata": {},
   "outputs": [
    {
     "data": {
      "text/plain": [
       "{'solver': 'liblinear', 'C': 0.00026366508987303583}"
      ]
     },
     "execution_count": 64,
     "metadata": {},
     "output_type": "execute_result"
    }
   ],
   "source": [
    "rs_logmodel.best_params_"
   ]
  },
  {
   "cell_type": "code",
   "execution_count": 65,
   "metadata": {},
   "outputs": [
    {
     "data": {
      "text/plain": [
       "0.24038764576110935"
      ]
     },
     "execution_count": 65,
     "metadata": {},
     "output_type": "execute_result"
    }
   ],
   "source": [
    "rs_logmodel.score(X_test,y_test)"
   ]
  },
  {
   "cell_type": "code",
   "execution_count": 66,
   "metadata": {},
   "outputs": [],
   "source": [
    "#Random Forest Classifier HPT\n",
    "\n",
    "rfc_grid={\"n_estimators\": np.arange(10,1000,50),\n",
    "         \"max_depth\":[None,3,5,10],\n",
    "         \"min_samples_split\":np.arange(2,20,2),\n",
    "         \"min_samples_leaf\":np.arange(1,20,2)}"
   ]
  },
  {
   "cell_type": "code",
   "execution_count": 67,
   "metadata": {},
   "outputs": [],
   "source": [
    "np.random.seed(42)"
   ]
  },
  {
   "cell_type": "code",
   "execution_count": 73,
   "metadata": {},
   "outputs": [],
   "source": [
    "rs_rfc=RandomizedSearchCV(RandomForestClassifier(),\n",
    "                        param_distributions=rfc_grid,\n",
    "                        n_iter=20,\n",
    "                        verbose=True)"
   ]
  },
  {
   "cell_type": "code",
   "execution_count": 74,
   "metadata": {},
   "outputs": [
    {
     "name": "stdout",
     "output_type": "stream",
     "text": [
      "Fitting 5 folds for each of 20 candidates, totalling 100 fits\n"
     ]
    },
    {
     "name": "stderr",
     "output_type": "stream",
     "text": [
      "[Parallel(n_jobs=1)]: Using backend SequentialBackend with 1 concurrent workers.\n",
      "[Parallel(n_jobs=1)]: Done 100 out of 100 | elapsed: 21.7min finished\n"
     ]
    },
    {
     "data": {
      "text/plain": [
       "RandomizedSearchCV(estimator=RandomForestClassifier(), n_iter=20,\n",
       "                   param_distributions={'max_depth': [None, 3, 5, 10],\n",
       "                                        'min_samples_leaf': array([ 1,  3,  5,  7,  9, 11, 13, 15, 17, 19]),\n",
       "                                        'min_samples_split': array([ 2,  4,  6,  8, 10, 12, 14, 16, 18]),\n",
       "                                        'n_estimators': array([ 10,  60, 110, 160, 210, 260, 310, 360, 410, 460, 510, 560, 610,\n",
       "       660, 710, 760, 810, 860, 910, 960])},\n",
       "                   verbose=True)"
      ]
     },
     "execution_count": 74,
     "metadata": {},
     "output_type": "execute_result"
    }
   ],
   "source": [
    "rs_rfc.fit(X_train,y_train)"
   ]
  },
  {
   "cell_type": "code",
   "execution_count": 75,
   "metadata": {},
   "outputs": [
    {
     "data": {
      "text/plain": [
       "{'n_estimators': 910,\n",
       " 'min_samples_split': 18,\n",
       " 'min_samples_leaf': 7,\n",
       " 'max_depth': None}"
      ]
     },
     "execution_count": 75,
     "metadata": {},
     "output_type": "execute_result"
    }
   ],
   "source": [
    "rs_rfc.best_params_"
   ]
  },
  {
   "cell_type": "code",
   "execution_count": 76,
   "metadata": {},
   "outputs": [
    {
     "data": {
      "text/plain": [
       "0.6748345414434289"
      ]
     },
     "execution_count": 76,
     "metadata": {},
     "output_type": "execute_result"
    }
   ],
   "source": [
    "rs_rfc.score(X_test,y_test)"
   ]
  },
  {
   "cell_type": "code",
   "execution_count": 77,
   "metadata": {},
   "outputs": [
    {
     "data": {
      "text/html": [
       "<div>\n",
       "<style scoped>\n",
       "    .dataframe tbody tr th:only-of-type {\n",
       "        vertical-align: middle;\n",
       "    }\n",
       "\n",
       "    .dataframe tbody tr th {\n",
       "        vertical-align: top;\n",
       "    }\n",
       "\n",
       "    .dataframe thead th {\n",
       "        text-align: right;\n",
       "    }\n",
       "</style>\n",
       "<table border=\"1\" class=\"dataframe\">\n",
       "  <thead>\n",
       "    <tr style=\"text-align: right;\">\n",
       "      <th></th>\n",
       "      <th>0</th>\n",
       "    </tr>\n",
       "  </thead>\n",
       "  <tbody>\n",
       "    <tr>\n",
       "      <th>0</th>\n",
       "      <td>Underground Rap</td>\n",
       "    </tr>\n",
       "    <tr>\n",
       "      <th>1</th>\n",
       "      <td>dnb</td>\n",
       "    </tr>\n",
       "    <tr>\n",
       "      <th>2</th>\n",
       "      <td>Dark Trap</td>\n",
       "    </tr>\n",
       "    <tr>\n",
       "      <th>3</th>\n",
       "      <td>trap</td>\n",
       "    </tr>\n",
       "    <tr>\n",
       "      <th>4</th>\n",
       "      <td>Dark Trap</td>\n",
       "    </tr>\n",
       "  </tbody>\n",
       "</table>\n",
       "</div>"
      ],
      "text/plain": [
       "                 0\n",
       "0  Underground Rap\n",
       "1              dnb\n",
       "2        Dark Trap\n",
       "3             trap\n",
       "4        Dark Trap"
      ]
     },
     "execution_count": 77,
     "metadata": {},
     "output_type": "execute_result"
    }
   ],
   "source": [
    "y_predictions=rs_rfc.predict(X_test)\n",
    "preds_df=pd.DataFrame(y_predictions)\n",
    "preds_df.head()"
   ]
  },
  {
   "cell_type": "code",
   "execution_count": 78,
   "metadata": {},
   "outputs": [
    {
     "name": "stdout",
     "output_type": "stream",
     "text": [
      "                 precision    recall  f1-score   support\n",
      "\n",
      "      Dark Trap       0.54      0.46      0.50      1401\n",
      "            Emo       0.68      0.67      0.67       503\n",
      "         Hiphop       0.49      0.39      0.44       969\n",
      "            Pop       0.25      0.01      0.01       138\n",
      "            Rap       0.80      0.26      0.40       547\n",
      "            RnB       0.43      0.39      0.41       594\n",
      "     Trap Metal       0.50      0.23      0.32       580\n",
      "Underground Rap       0.42      0.66      0.51      1797\n",
      "            dnb       0.94      0.98      0.96       864\n",
      "      hardstyle       0.84      0.90      0.87       872\n",
      "      psytrance       0.91      0.91      0.91       872\n",
      "      techhouse       0.88      0.91      0.89       932\n",
      "         techno       0.84      0.86      0.85       855\n",
      "         trance       0.78      0.85      0.82       904\n",
      "           trap       0.84      0.84      0.84       864\n",
      "\n",
      "       accuracy                           0.67     12692\n",
      "      macro avg       0.68      0.62      0.63     12692\n",
      "   weighted avg       0.68      0.67      0.66     12692\n",
      "\n"
     ]
    }
   ],
   "source": [
    "print(classification_report(y_test,y_predictions))"
   ]
  },
  {
   "cell_type": "markdown",
   "metadata": {},
   "source": [
    "# Feature importance\n"
   ]
  },
  {
   "cell_type": "code",
   "execution_count": 79,
   "metadata": {},
   "outputs": [
    {
     "data": {
      "text/plain": [
       "RandomForestClassifier(min_samples_leaf=7, min_samples_split=18,\n",
       "                       n_estimators=910)"
      ]
     },
     "execution_count": 79,
     "metadata": {},
     "output_type": "execute_result"
    }
   ],
   "source": [
    "feat=RandomForestClassifier(n_estimators= 910,       #Using best params obtained earlier\n",
    "                            min_samples_split= 18,\n",
    "                            min_samples_leaf= 7,\n",
    "                            max_depth= None)\n",
    "feat.fit(X_train,y_train)"
   ]
  },
  {
   "cell_type": "code",
   "execution_count": 80,
   "metadata": {},
   "outputs": [
    {
     "data": {
      "text/plain": [
       "array([0.10112139, 0.07194976, 0.01088634, 0.08182038, 0.00494834,\n",
       "       0.05645174, 0.05336025, 0.10901459, 0.03156794, 0.05700016,\n",
       "       0.27642541, 0.14511139, 0.00034231])"
      ]
     },
     "execution_count": 80,
     "metadata": {},
     "output_type": "execute_result"
    }
   ],
   "source": [
    "feat.feature_importances_"
   ]
  },
  {
   "cell_type": "code",
   "execution_count": 84,
   "metadata": {},
   "outputs": [],
   "source": [
    "feature_dict=dict(zip(final_data.columns,list(feat.feature_importances_)))"
   ]
  },
  {
   "cell_type": "code",
   "execution_count": 86,
   "metadata": {},
   "outputs": [
    {
     "data": {
      "text/plain": [
       "<AxesSubplot:title={'center':'Feature importance'}>"
      ]
     },
     "execution_count": 86,
     "metadata": {},
     "output_type": "execute_result"
    },
    {
     "data": {
      "image/png": "[encoded data removed]",
      "text/plain": [
       "<Figure size 432x288 with 1 Axes>"
      ]
     },
     "metadata": {
      "needs_background": "light"
     },
     "output_type": "display_data"
    }
   ],
   "source": [
    "feature_data=pd.DataFrame(feature_dict,index=[0])\n",
    "feature_data.T.plot.barh(title=\"Feature importance\",legend=False,color=\"Purple\",grid=False)"
   ]
  },
  {
   "cell_type": "code",
   "execution_count": null,
   "metadata": {},
   "outputs": [],
   "source": []
  }
 ],
 "metadata": {
  "kernelspec": {
   "display_name": "Python 3",
   "language": "python",
   "name": "python3"
  },
  "language_info": {
   "codemirror_mode": {
    "name": "ipython",
    "version": 3
   },
   "file_extension": ".py",
   "mimetype": "text/x-python",
   "name": "python",
   "nbconvert_exporter": "python",
   "pygments_lexer": "ipython3",
   "version": "3.8.5"
  }
 },
 "nbformat": 4,
 "nbformat_minor": 4
}
